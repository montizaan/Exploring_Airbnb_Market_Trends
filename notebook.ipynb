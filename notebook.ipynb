{
 "cells": [
  {
   "source": [
    "![NYC Skyline](nyc.jpg)\n",
    "\n",
    "Welcome to New York City, one of the most-visited cities in the world. There are many Airbnb listings in New York City to meet the high demand for temporary lodging for travelers, which can be anywhere between a few nights to many months. In this project, we will take a closer look at the New York Airbnb market by combining data from multiple file types like `.csv`, `.tsv`, and `.xlsx`.\n",
    "\n",
    "Recall that **CSV**, **TSV**, and **Excel** files are three common formats for storing data. \n",
    "Three files containing data on 2019 Airbnb listings are available to you:\n",
    "\n",
    "**data/airbnb_price.csv**\n",
    "This is a CSV file containing data on Airbnb listing prices and locations.\n",
    "- **`listing_id`**: unique identifier of listing\n",
    "- **`price`**: nightly listing price in USD\n",
    "- **`nbhood_full`**: name of borough and neighborhood where listing is located\n",
    "\n",
    "**data/airbnb_room_type.xlsx**\n",
    "This is an Excel file containing data on Airbnb listing descriptions and room types.\n",
    "- **`listing_id`**: unique identifier of listing\n",
    "- **`description`**: listing description\n",
    "- **`room_type`**: Airbnb has three types of rooms: shared rooms, private rooms, and entire homes/apartments\n",
    "\n",
    "**data/airbnb_last_review.tsv**\n",
    "This is a TSV file containing data on Airbnb host names and review dates.\n",
    "- **`listing_id`**: unique identifier of listing\n",
    "- **`host_name`**: name of listing host\n",
    "- **`last_review`**: date when the listing was last reviewed"
   ],
   "metadata": {
    "id": "bA5ajAmk7XH6"
   },
   "id": "c747d469-ee97-4b95-880f-feefd5456042",
   "cell_type": "markdown"
  },
  {
   "source": [
    "## Importing packages and dataset(s)\n",
    "* Importing `numpy` and `pandas`\n",
    "* Importing datasets, `price`, `room_type`, and `last_review`"
   ],
   "metadata": {},
   "cell_type": "markdown",
   "id": "31d8efa7-a225-4480-a3ab-c60746508946"
  },
  {
   "source": [
    "# Import packages\n",
    "import numpy as np\n",
    "import pandas as pd\n",
    "\n",
    "# Import dataset(s)\n",
    "price = pd.read_csv(\"data/airbnb_price.csv\")\n",
    "room_type = pd.read_excel(\"data/airbnb_room_type.xlsx\")\n",
    "last_review = pd.read_csv(\"data/airbnb_last_review.tsv\", sep='\\t')"
   ],
   "metadata": {
    "executionTime": 1786,
    "lastSuccessfullyExecutedCode": "# Import packages\nimport numpy as np\nimport pandas as pd\n\n# Import dataset(s)\nprice = pd.read_csv(\"data/airbnb_price.csv\")\nroom_type = pd.read_excel(\"data/airbnb_room_type.xlsx\")\nlast_review = pd.read_csv(\"data/airbnb_last_review.tsv\", sep='\\t')",
    "executionCancelledAt": null,
    "lastExecutedAt": 1711127974095,
    "lastScheduledRunId": null,
    "ExecuteTime": {
     "end_time": "2024-03-22T18:22:55.718783Z",
     "start_time": "2024-03-22T18:22:50.643387Z"
    }
   },
   "id": "1fdc5784-479e-46cb-b05b-68439dcc94a7",
   "cell_type": "code",
   "execution_count": 3,
   "outputs": []
  },
  {
   "source": [
    "# Confirming correct dataset load\n",
    "datasets = [price, room_type, last_review]\n",
    "\n",
    "for dataset in datasets:\n",
    "    print(f\"Memory usage: {dataset.memory_usage().sum()}\")\n",
    "    print(dataset.head(5))\n",
    "    print(f\"\")\n",
    "    print({dataset.shape})"
   ],
   "metadata": {
    "executionCancelledAt": null,
    "executionTime": 47,
    "lastExecutedAt": 1711127974143,
    "lastScheduledRunId": null,
    "lastSuccessfullyExecutedCode": "# Confirming correct dataset load\ndatasets = [price, room_type, last_review]\n\nfor dataset in datasets:\n    print(f\"Memory usage: {dataset.memory_usage().sum()}\")\n    print(dataset.head(5))\n    print(f\"\")\n    print({dataset.shape})",
    "outputsMetadata": {
     "0": {
      "height": 557,
      "type": "stream"
     }
    },
    "ExecuteTime": {
     "end_time": "2024-03-22T18:22:55.746799Z",
     "start_time": "2024-03-22T18:22:55.723347Z"
    }
   },
   "cell_type": "code",
   "id": "efd32438-8171-4667-a9c6-910b00ba2fe5",
   "outputs": [
    {
     "name": "stdout",
     "output_type": "stream",
     "text": [
      "Memory usage: 605144\n",
      "   listing_id        price                nbhood_full\n",
      "0        2595  225 dollars         Manhattan, Midtown\n",
      "1        3831   89 dollars     Brooklyn, Clinton Hill\n",
      "2        5099  200 dollars     Manhattan, Murray Hill\n",
      "3        5178   79 dollars  Manhattan, Hell's Kitchen\n",
      "4        5238  150 dollars       Manhattan, Chinatown\n",
      "\n",
      "{(25209, 3)}\n",
      "Memory usage: 605144\n",
      "   listing_id                                description        room_type\n",
      "0        2595                      Skylit Midtown Castle  Entire home/apt\n",
      "1        3831            Cozy Entire Floor of Brownstone  Entire home/apt\n",
      "2        5099  Large Cozy 1 BR Apartment In Midtown East  Entire home/apt\n",
      "3        5178            Large Furnished Room Near B'way     private room\n",
      "4        5238         Cute & Cozy Lower East Side 1 bdrm  Entire home/apt\n",
      "\n",
      "{(25209, 3)}\n",
      "Memory usage: 605144\n",
      "   listing_id    host_name   last_review\n",
      "0        2595     Jennifer   May 21 2019\n",
      "1        3831  LisaRoxanne  July 05 2019\n",
      "2        5099        Chris  June 22 2019\n",
      "3        5178     Shunichi  June 24 2019\n",
      "4        5238          Ben  June 09 2019\n",
      "\n",
      "{(25209, 3)}\n"
     ]
    }
   ],
   "execution_count": 4
  },
  {
   "source": [
    "## Merging dataframes\n",
    "* Join `price` with `room_type` on `listing_id` , concurrently initialize new dataframe `df`\n",
    "* Join `last_review` on `room_type` on `listing_id`"
   ],
   "metadata": {},
   "cell_type": "markdown",
   "id": "67d1dea3-2824-4822-a5d5-89647baa706d"
  },
  {
   "source": [
    "# Initialize new df, join price and room_type dataframes on listing_id\n",
    "df = pd.merge(left=room_type, right=price, on=\"listing_id\")"
   ],
   "metadata": {
    "executionCancelledAt": null,
    "executionTime": 52,
    "lastExecutedAt": 1711127974195,
    "lastScheduledRunId": null,
    "lastSuccessfullyExecutedCode": "# Initialize new df, join price and room_type dataframes on listing_id\ndf = pd.merge(left=room_type, right=price, on=\"listing_id\")",
    "ExecuteTime": {
     "end_time": "2024-03-22T18:22:55.787623Z",
     "start_time": "2024-03-22T18:22:55.751636Z"
    }
   },
   "cell_type": "code",
   "id": "26b99f28-e097-4554-818b-4933c68aa217",
   "outputs": [],
   "execution_count": 5
  },
  {
   "source": [
    "# Jpin last_reivew and room_type on listing_id\n",
    "df = df.merge(last_review, on=\"listing_id\")"
   ],
   "metadata": {
    "executionCancelledAt": null,
    "executionTime": 47,
    "lastExecutedAt": 1711127974243,
    "lastScheduledRunId": null,
    "lastSuccessfullyExecutedCode": "# Jpin last_reivew and room_type on listing_id\ndf = df.merge(last_review, on=\"listing_id\")",
    "ExecuteTime": {
     "end_time": "2024-03-22T18:22:55.838290Z",
     "start_time": "2024-03-22T18:22:55.797543Z"
    }
   },
   "cell_type": "code",
   "id": "6ee00bc0-506c-4ab2-99f9-79209ef44a12",
   "outputs": [],
   "execution_count": 6
  },
  {
   "source": [
    "## First review date and last review date\n",
    "* If needed, clean data to have date-time objects\n",
    "* Select min date in `df`\n",
    "* Select max date in `df`"
   ],
   "metadata": {},
   "cell_type": "markdown",
   "id": "f844b0fd-ec12-404a-9f27-6f0fa8bf2cdd"
  },
  {
   "source": [
    "# Check data types \n",
    "df.dtypes"
   ],
   "metadata": {
    "executionCancelledAt": null,
    "executionTime": 53,
    "lastExecutedAt": 1711127974296,
    "lastScheduledRunId": null,
    "lastSuccessfullyExecutedCode": "# Check data types \ndf.dtypes",
    "ExecuteTime": {
     "end_time": "2024-03-22T18:22:55.878279Z",
     "start_time": "2024-03-22T18:22:55.846549Z"
    }
   },
   "cell_type": "code",
   "id": "c9c147ae-eae4-48fe-bb43-cb75dedcfb19",
   "outputs": [
    {
     "data": {
      "text/plain": "listing_id      int64\ndescription    object\nroom_type      object\nprice          object\nnbhood_full    object\nhost_name      object\nlast_review    object\ndtype: object"
     },
     "execution_count": 7,
     "metadata": {},
     "output_type": "execute_result"
    }
   ],
   "execution_count": 7
  },
  {
   "source": [
    "# Set last_review[\"last_review\"] to datetime object\n",
    "df[\"last_review\"] = pd.to_datetime(df[\"last_review\"])\n",
    "\n",
    "# Verify if last_review[\"last_review\"] is set to datetime\n",
    "print(df[\"last_review\"].dtype)\n",
    "\n",
    "# Show head of dataset\n",
    "print(df[\"last_review\"].head())"
   ],
   "metadata": {
    "executionCancelledAt": null,
    "executionTime": 64,
    "lastExecutedAt": 1711127974360,
    "lastScheduledRunId": null,
    "lastSuccessfullyExecutedCode": "# Set last_review[\"last_review\"] to datetime object\ndf[\"last_review\"] = pd.to_datetime(df[\"last_review\"])\n\n# Verify if last_review[\"last_review\"] is set to datetime\nprint(df[\"last_review\"].dtype)\n\n# Show head of dataset\nprint(df[\"last_review\"].head())",
    "outputsMetadata": {
     "0": {
      "height": 157,
      "type": "stream"
     }
    },
    "ExecuteTime": {
     "end_time": "2024-03-22T18:22:56.008591Z",
     "start_time": "2024-03-22T18:22:55.884780Z"
    }
   },
   "cell_type": "code",
   "id": "fbe17983-fad1-4477-a38f-33f6e6dd7830",
   "outputs": [
    {
     "name": "stdout",
     "output_type": "stream",
     "text": [
      "datetime64[ns]\n",
      "0   2019-05-21\n",
      "1   2019-07-05\n",
      "2   2019-06-22\n",
      "3   2019-06-24\n",
      "4   2019-06-09\n",
      "Name: last_review, dtype: datetime64[ns]\n"
     ]
    }
   ],
   "execution_count": 8
  },
  {
   "source": [
    "# Select the min date of the most recent reviews\n",
    "min_review_date = df[\"last_review\"].min()\n",
    "print(f\"The oldest Airbnb review is from {min_review_date}\")\n",
    "\n",
    "# Select the max date of the most recent reviews\n",
    "max_review_date = df[\"last_review\"].max()\n",
    "print(f\"The newest Airbnb review is from {max_review_date}\")"
   ],
   "metadata": {
    "executionCancelledAt": null,
    "executionTime": 52,
    "lastExecutedAt": 1711127974412,
    "lastScheduledRunId": null,
    "lastSuccessfullyExecutedCode": "# Select the min date of the most recent reviews\nmin_review_date = df[\"last_review\"].min()\nprint(f\"The oldest Airbnb review is from {min_review_date}\")\n\n# Select the max date of the most recent reviews\nmax_review_date = df[\"last_review\"].max()\nprint(f\"The newest Airbnb review is from {max_review_date}\")",
    "outputsMetadata": {
     "0": {
      "height": 57,
      "type": "stream"
     }
    },
    "ExecuteTime": {
     "end_time": "2024-03-22T18:22:56.031542Z",
     "start_time": "2024-03-22T18:22:56.015382Z"
    }
   },
   "cell_type": "code",
   "id": "88cd40d0-b5cc-4526-a9c5-f45ba5559792",
   "outputs": [
    {
     "name": "stdout",
     "output_type": "stream",
     "text": [
      "The oldest Airbnb review is from 2019-01-01 00:00:00\n",
      "The newest Airbnb review is from 2019-07-09 00:00:00\n"
     ]
    }
   ],
   "execution_count": 9
  },
  {
   "source": [
    "## How many of the listings are private rooms?\n",
    "* Clean data\n",
    "* Subset private rooms\n",
    "* Count rows of private rooms\n",
    "* Save count in a variable called `total_private_rooms`"
   ],
   "metadata": {},
   "cell_type": "markdown",
   "id": "415dc7d9-7587-432b-9218-b5e1bf333bb2"
  },
  {
   "source": [
    "# Cleaning df[\"room_type\"]\n",
    "df[\"room_type\"] = df[\"room_type\"].str.lower()\n",
    "\n",
    "# Subset private rooms\n",
    "private_listings = df[df[\"room_type\"] == \"private room\"]\n",
    "\n",
    "# Counts amount of private rooms and stores it in the value total_private_rooms\n",
    "total_private_rooms = np.sum(private_listings.value_counts(dropna=False))"
   ],
   "metadata": {
    "executionCancelledAt": null,
    "executionTime": 59,
    "lastExecutedAt": 1711127974471,
    "lastScheduledRunId": null,
    "lastSuccessfullyExecutedCode": "# Cleaning df[\"room_type\"]\ndf[\"room_type\"] = df[\"room_type\"].str.lower()\n\n# Subset private rooms\nprivate_listings = df[df[\"room_type\"] == \"private room\"]\n\n# Counts amount of private rooms and stores it in the value total_private_rooms\ntotal_private_rooms = np.sum(private_listings.value_counts(dropna=False))",
    "ExecuteTime": {
     "end_time": "2024-03-22T18:22:56.185703Z",
     "start_time": "2024-03-22T18:22:56.038981Z"
    }
   },
   "cell_type": "code",
   "id": "30f0560b-5682-4ea6-87c6-1da12bef328c",
   "outputs": [],
   "execution_count": 10
  },
  {
   "source": [
    "## What is the average listing price?\n",
    "* Clean data\n",
    "* Calculate average listing price\n",
    "* Save calculation as `avg_listing_price`"
   ],
   "metadata": {},
   "cell_type": "markdown",
   "id": "b155b753-46d7-4103-a719-a86233a67378"
  },
  {
   "source": [
    "# Clear all string data\n",
    "df[\"price\"] = df[\"price\"].str.replace(\" dollars\", \"\")\n",
    "df[\"price\"] = df[\"price\"].str.strip()\n",
    "\n",
    "# Verify if Series is clean of string data\n",
    "print(df[\"price\"].head(5))\n",
    "\n",
    "# Set category as int64\n",
    "df[\"price\"] = df[\"price\"].astype(int)\n",
    "\n",
    "# Verify datatype of df[\"price\"] as int64\n",
    "print(df[\"price\"].dtype)"
   ],
   "metadata": {
    "executionCancelledAt": null,
    "executionTime": 64,
    "lastExecutedAt": 1711127974536,
    "lastScheduledRunId": null,
    "lastSuccessfullyExecutedCode": "# Clear all string data\ndf[\"price\"] = df[\"price\"].str.replace(\" dollars\", \"\")\ndf[\"price\"] = df[\"price\"].str.strip()\n\n# Verify if Series is clean of string data\nprint(df[\"price\"].head(5))\n\n# Set category as int64\ndf[\"price\"] = df[\"price\"].astype(int)\n\n# Verify datatype of df[\"price\"] as int64\nprint(df[\"price\"].dtype)",
    "outputsMetadata": {
     "0": {
      "height": 157,
      "type": "stream"
     }
    },
    "ExecuteTime": {
     "end_time": "2024-03-22T18:22:56.309460Z",
     "start_time": "2024-03-22T18:22:56.193614Z"
    }
   },
   "cell_type": "code",
   "id": "48533438-e0f6-4e8d-a925-e2105a8cc9cf",
   "outputs": [
    {
     "name": "stdout",
     "output_type": "stream",
     "text": [
      "0    225\n",
      "1     89\n",
      "2    200\n",
      "3     79\n",
      "4    150\n",
      "Name: price, dtype: object\n",
      "int64\n"
     ]
    }
   ],
   "execution_count": 11
  },
  {
   "source": [
    "# Calculate average price and store the value\n",
    "avg_listing_price = np.round(np.average(df[\"price\"]), 2)"
   ],
   "metadata": {
    "executionCancelledAt": null,
    "executionTime": 51,
    "lastExecutedAt": 1711127974587,
    "lastScheduledRunId": null,
    "lastSuccessfullyExecutedCode": "# Calculate average price and store the value\navg_listing_price = np.round(np.average(df[\"price\"]), 2)",
    "ExecuteTime": {
     "end_time": "2024-03-22T18:22:56.332604Z",
     "start_time": "2024-03-22T18:22:56.322566Z"
    }
   },
   "cell_type": "code",
   "id": "eb37ec4b-2e4f-4404-8d34-7e306b65dc7c",
   "outputs": [],
   "execution_count": 12
  },
  {
   "source": [
    "## Bringing it all together\n",
    "* Storing first_reviewed, last_reviewed, nb_private_rooms and avg_price as a dictionary\n",
    "* Converting dictionary to dataframe"
   ],
   "metadata": {},
   "cell_type": "markdown",
   "id": "f8b1b74a-97d3-47d0-9cb6-ec99d0748271"
  },
  {
   "source": [
    "dict_review_dates = {\n",
    "    \"first_reviewed\": [min_review_date],\n",
    "    \"last_reviewed\": [max_review_date],\n",
    "    \"nb_private_rooms\": [total_private_rooms],\n",
    "    \"avg_price\": [avg_listing_price],\n",
    "}\n",
    "\n",
    "review_dates = pd.DataFrame(dict_review_dates)"
   ],
   "metadata": {
    "executionCancelledAt": null,
    "executionTime": 51,
    "lastExecutedAt": 1711127974639,
    "lastScheduledRunId": null,
    "lastSuccessfullyExecutedCode": "dict_review_dates = {\n    \"first_reviewed\": [min_review_date],\n    \"last_reviewed\": [max_review_date],\n    \"nb_private_rooms\": [total_private_rooms],\n    \"avg_price\": [avg_listing_price],\n}\n\nreview_dates = pd.DataFrame(dict_review_dates)",
    "ExecuteTime": {
     "end_time": "2024-03-22T18:22:56.354796Z",
     "start_time": "2024-03-22T18:22:56.339857Z"
    }
   },
   "cell_type": "code",
   "id": "a1de90b0-0c38-4aa6-ae70-d56ab8ab184a",
   "outputs": [],
   "execution_count": 13
  }
 ],
 "metadata": {
  "colab": {
   "name": "Welcome to DataCamp Workspaces.ipynb",
   "provenance": []
  },
  "kernelspec": {
   "display_name": "Python 3 (ipykernel)",
   "language": "python",
   "name": "python3"
  },
  "language_info": {
   "codemirror_mode": {
    "name": "ipython",
    "version": 3
   },
   "file_extension": ".py",
   "mimetype": "text/x-python",
   "name": "python",
   "nbconvert_exporter": "python",
   "pygments_lexer": "ipython3",
   "version": "3.8.10"
  }
 },
 "nbformat": 4,
 "nbformat_minor": 5
}
